{
 "cells": [
  {
   "cell_type": "code",
   "execution_count": 1,
   "metadata": {},
   "outputs": [],
   "source": [
    "import sys\n",
    "sys.path.insert(0, \"..\")\n",
    "import numpy as np\n",
    "import torch\n",
    "import tensorflow as tf\n",
    "from layers import torch_masked_CRF, tf_masked_CRF\n",
    "\n",
    "np.random.seed(42)\n",
    "torch.manual_seed(42)\n",
    "tf.random.set_seed(42)"
   ]
  },
  {
   "cell_type": "markdown",
   "metadata": {},
   "source": [
    "## Synthetic data"
   ]
  },
  {
   "cell_type": "code",
   "execution_count": 2,
   "metadata": {},
   "outputs": [],
   "source": [
    "NUM_TAGS = 5\n",
    "label2idx_map = {\"O-none\":0, \"B-loc\":1, \"I-loc\":2, \"B-org\":3, \"I-org\":4}\n",
    "\n",
    "BATCH_SIZE = 1\n",
    "SEQ_LENGTH = 10\n",
    "emissions = np.random.rand(BATCH_SIZE, SEQ_LENGTH, NUM_TAGS )\n",
    "tags = np.random.randint(NUM_TAGS, size=(BATCH_SIZE, SEQ_LENGTH))"
   ]
  },
  {
   "cell_type": "markdown",
   "metadata": {},
   "source": [
    "## 1. PyTorch\n",
    "\n",
    "### 1.a Forward pass"
   ]
  },
  {
   "cell_type": "code",
   "execution_count": 3,
   "metadata": {},
   "outputs": [
    {
     "name": "stdout",
     "output_type": "stream",
     "text": [
      "tensor(-114.0810, dtype=torch.float64, grad_fn=<MeanBackward0>)\n"
     ]
    }
   ],
   "source": [
    "# Cast data into torch.tensors\n",
    "torch_emissions = torch.tensor(emissions, requires_grad=True)\n",
    "torch_tags = torch.tensor(tags)\n",
    "\n",
    "# Compute negative log likelihood\n",
    "torch_layer = torch_masked_CRF.CRF(num_tags=NUM_TAGS, batch_first=True, label2idx=label2idx_map)\n",
    "neg_torch_loss = torch_layer(torch_emissions, torch_tags, reduction=\"mean\")\n",
    "torch_preds = torch_layer.decode(torch_emissions)\n",
    "print(neg_torch_loss)"
   ]
  },
  {
   "cell_type": "markdown",
   "metadata": {},
   "source": [
    "### 1.b Backward pass"
   ]
  },
  {
   "cell_type": "code",
   "execution_count": 4,
   "metadata": {},
   "outputs": [
    {
     "name": "stdout",
     "output_type": "stream",
     "text": [
      "tensor([[[-0.1126,  0.6653, -0.2381, -0.1975, -0.1171],\n",
      "         [-0.1587,  0.7825, -0.2341, -0.2910, -0.0988],\n",
      "         [-0.1260, -0.4554, -0.1486,  0.8043, -0.0742],\n",
      "         [-0.1820,  0.7288, -0.1832, -0.2953, -0.0683],\n",
      "         [-0.2919,  0.7684, -0.1144, -0.2662, -0.0960],\n",
      "         [-0.3056, -0.1929, -0.0831,  0.6501, -0.0685],\n",
      "         [-0.2397, -0.1786, -0.0452,  0.5998, -0.1363],\n",
      "         [ 0.6922, -0.2178, -0.0393, -0.3174, -0.1177],\n",
      "         [-0.1655, -0.3047, -0.0462, -0.4007,  0.9170],\n",
      "         [-0.3171, -0.2097, -0.0906, -0.3016,  0.9191]]], dtype=torch.float64)\n"
     ]
    }
   ],
   "source": [
    "neg_torch_loss.backward()\n",
    "print(torch_emissions.grad)"
   ]
  },
  {
   "cell_type": "markdown",
   "metadata": {},
   "source": [
    "## 2. TensorFlow\n",
    "\n",
    "### 2.a Forward pass"
   ]
  },
  {
   "cell_type": "code",
   "execution_count": 5,
   "metadata": {},
   "outputs": [
    {
     "name": "stdout",
     "output_type": "stream",
     "text": [
      "tf.Tensor(-114.03488826140088, shape=(), dtype=float64)\n"
     ]
    },
    {
     "name": "stderr",
     "output_type": "stream",
     "text": [
      "2021-12-15 12:26:31.124678: I tensorflow/core/platform/cpu_feature_guard.cc:151] This TensorFlow binary is optimized with oneAPI Deep Neural Network Library (oneDNN) to use the following CPU instructions in performance-critical operations:  AVX2 AVX512F FMA\n",
      "To enable them in other operations, rebuild TensorFlow with the appropriate compiler flags.\n"
     ]
    }
   ],
   "source": [
    "# Cast data into tf.Tensors\n",
    "tf_emissions = tf.Variable(emissions, trainable=True)\n",
    "tf_tags = tf.constant(tags)\n",
    "\n",
    "# Compute negative log likelihood\n",
    "with tf.GradientTape(persistent=True) as tape:\n",
    "    tf_layer = tf_masked_CRF.MaskedCRF(num_output=NUM_TAGS, use_mask=True, label2idx_map=label2idx_map)\n",
    "    loss, per_example_loss, tf_pred = tf_layer.decode(logits=tf_emissions, label_ids=tf_tags, lengths=[SEQ_LENGTH]*BATCH_SIZE)\n",
    "    neg_tf_loss = -1.0 * loss\n",
    "    print(neg_tf_loss)"
   ]
  },
  {
   "cell_type": "markdown",
   "metadata": {},
   "source": [
    "### 2.b Backward pass"
   ]
  },
  {
   "cell_type": "code",
   "execution_count": 6,
   "metadata": {},
   "outputs": [
    {
     "name": "stdout",
     "output_type": "stream",
     "text": [
      "tf.Tensor(\n",
      "[[[-0.10386129  0.67524633 -0.24685369 -0.19371572 -0.13081563]\n",
      "  [-0.15550831  0.78549991 -0.23675906 -0.28451763 -0.10871491]\n",
      "  [-0.12502566 -0.4509436  -0.14686009  0.802686   -0.07985664]\n",
      "  [-0.17858315  0.73400336 -0.18302966 -0.29954124 -0.07284931]\n",
      "  [-0.28750709  0.77243911 -0.1124481  -0.27150178 -0.10098215]\n",
      "  [-0.29879891 -0.18877991 -0.0816968   0.64241969 -0.07314407]\n",
      "  [-0.2319082  -0.17265856 -0.04459479  0.59277348 -0.14361192]\n",
      "  [ 0.69449846 -0.20954137 -0.0389528  -0.31919062 -0.12681367]\n",
      "  [-0.15962819 -0.29489605 -0.04499453 -0.41221641  0.91173517]\n",
      "  [-0.3284229  -0.21412171 -0.0881785  -0.27749944  0.90822255]]], shape=(1, 10, 5), dtype=float64)\n"
     ]
    }
   ],
   "source": [
    "print(tape.gradient(neg_tf_loss, tf_emissions))"
   ]
  },
  {
   "cell_type": "markdown",
   "metadata": {},
   "source": [
    "**Note**: Small differences in the neg forward pass results are due to different initialization values and different algorithms use to compute the loss. Consequentely, these differences will have an impact also on the value of the gradients. What we are interested in, is to check that both the results of the forward pass and backward pass are \"close enough\"."
   ]
  }
 ],
 "metadata": {
  "interpreter": {
   "hash": "dc923a921d4dc565568c30aa296ff6f1b972c8ead0cfe69a08d6f83e5d254801"
  },
  "kernelspec": {
   "display_name": "Python 3.8.8 64-bit ('maskedcrf-yhB9etc7-py3.8': poetry)",
   "language": "python",
   "name": "python3"
  },
  "language_info": {
   "codemirror_mode": {
    "name": "ipython",
    "version": 3
   },
   "file_extension": ".py",
   "mimetype": "text/x-python",
   "name": "python",
   "nbconvert_exporter": "python",
   "pygments_lexer": "ipython3",
   "version": "3.8.8"
  },
  "orig_nbformat": 4
 },
 "nbformat": 4,
 "nbformat_minor": 2
}
